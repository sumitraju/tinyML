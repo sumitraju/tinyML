{
  "cells": [
    {
      "cell_type": "markdown",
      "metadata": {
        "id": "R6gHiH-I7uFa"
      },
      "source": [
        "# How does the model see?\n",
        "\n",
        "Lets retrain our convolutional model for the Fashion-MNIST dataset and then visualize the filters and pooling."
      ]
    },
    {
      "cell_type": "code",
      "execution_count": 1,
      "metadata": {
        "colab": {
          "base_uri": "https://localhost:8080/"
        },
        "id": "C0tFgT1MMKi6",
        "outputId": "4879e143-602a-4762-eb75-d2aa57cc32cd"
      },
      "outputs": [
        {
          "output_type": "stream",
          "name": "stdout",
          "text": [
            "Downloading data from https://storage.googleapis.com/tensorflow/tf-keras-datasets/train-labels-idx1-ubyte.gz\n",
            "32768/29515 [=================================] - 0s 0us/step\n",
            "40960/29515 [=========================================] - 0s 0us/step\n",
            "Downloading data from https://storage.googleapis.com/tensorflow/tf-keras-datasets/train-images-idx3-ubyte.gz\n",
            "26427392/26421880 [==============================] - 0s 0us/step\n",
            "26435584/26421880 [==============================] - 0s 0us/step\n",
            "Downloading data from https://storage.googleapis.com/tensorflow/tf-keras-datasets/t10k-labels-idx1-ubyte.gz\n",
            "16384/5148 [===============================================================================================] - 0s 0us/step\n",
            "Downloading data from https://storage.googleapis.com/tensorflow/tf-keras-datasets/t10k-images-idx3-ubyte.gz\n",
            "4423680/4422102 [==============================] - 0s 0us/step\n",
            "4431872/4422102 [==============================] - 0s 0us/step\n",
            "Model: \"sequential\"\n",
            "_________________________________________________________________\n",
            " Layer (type)                Output Shape              Param #   \n",
            "=================================================================\n",
            " conv2d (Conv2D)             (None, 26, 26, 64)        640       \n",
            "                                                                 \n",
            " max_pooling2d (MaxPooling2D  (None, 13, 13, 64)       0         \n",
            " )                                                               \n",
            "                                                                 \n",
            " conv2d_1 (Conv2D)           (None, 11, 11, 64)        36928     \n",
            "                                                                 \n",
            " max_pooling2d_1 (MaxPooling  (None, 5, 5, 64)         0         \n",
            " 2D)                                                             \n",
            "                                                                 \n",
            " flatten (Flatten)           (None, 1600)              0         \n",
            "                                                                 \n",
            " dense (Dense)               (None, 20)                32020     \n",
            "                                                                 \n",
            " dense_1 (Dense)             (None, 10)                210       \n",
            "                                                                 \n",
            "=================================================================\n",
            "Total params: 69,798\n",
            "Trainable params: 69,798\n",
            "Non-trainable params: 0\n",
            "_________________________________________________________________\n",
            "Epoch 1/20\n",
            "1875/1875 [==============================] - 23s 7ms/step - loss: 0.5095 - accuracy: 0.8140 - val_loss: 0.3823 - val_accuracy: 0.8594\n",
            "Epoch 2/20\n",
            "1875/1875 [==============================] - 14s 7ms/step - loss: 0.3288 - accuracy: 0.8802 - val_loss: 0.3309 - val_accuracy: 0.8807\n",
            "Epoch 3/20\n",
            "1875/1875 [==============================] - 14s 8ms/step - loss: 0.2845 - accuracy: 0.8971 - val_loss: 0.3149 - val_accuracy: 0.8852\n",
            "Epoch 4/20\n",
            "1875/1875 [==============================] - 14s 8ms/step - loss: 0.2550 - accuracy: 0.9063 - val_loss: 0.2865 - val_accuracy: 0.8973\n",
            "Epoch 5/20\n",
            "1875/1875 [==============================] - 14s 7ms/step - loss: 0.2319 - accuracy: 0.9154 - val_loss: 0.2710 - val_accuracy: 0.9031\n",
            "Epoch 6/20\n",
            "1875/1875 [==============================] - 14s 7ms/step - loss: 0.2142 - accuracy: 0.9214 - val_loss: 0.2820 - val_accuracy: 0.8986\n",
            "Epoch 7/20\n",
            "1875/1875 [==============================] - 14s 8ms/step - loss: 0.1957 - accuracy: 0.9284 - val_loss: 0.2630 - val_accuracy: 0.9050\n",
            "Epoch 8/20\n",
            "1875/1875 [==============================] - 14s 7ms/step - loss: 0.1823 - accuracy: 0.9328 - val_loss: 0.2920 - val_accuracy: 0.9042\n",
            "Epoch 9/20\n",
            "1875/1875 [==============================] - 14s 7ms/step - loss: 0.1696 - accuracy: 0.9383 - val_loss: 0.2853 - val_accuracy: 0.9008\n",
            "Epoch 10/20\n",
            "1875/1875 [==============================] - 14s 7ms/step - loss: 0.1577 - accuracy: 0.9414 - val_loss: 0.2640 - val_accuracy: 0.9112\n",
            "Epoch 11/20\n",
            "1875/1875 [==============================] - 14s 7ms/step - loss: 0.1467 - accuracy: 0.9459 - val_loss: 0.2783 - val_accuracy: 0.9073\n",
            "Epoch 12/20\n",
            "1875/1875 [==============================] - 14s 7ms/step - loss: 0.1370 - accuracy: 0.9489 - val_loss: 0.2762 - val_accuracy: 0.9080\n",
            "Epoch 13/20\n",
            "1875/1875 [==============================] - 13s 7ms/step - loss: 0.1298 - accuracy: 0.9519 - val_loss: 0.2956 - val_accuracy: 0.9061\n",
            "Epoch 14/20\n",
            "1875/1875 [==============================] - 14s 7ms/step - loss: 0.1216 - accuracy: 0.9544 - val_loss: 0.3287 - val_accuracy: 0.8987\n",
            "Epoch 15/20\n",
            "1875/1875 [==============================] - 14s 7ms/step - loss: 0.1146 - accuracy: 0.9578 - val_loss: 0.3044 - val_accuracy: 0.9090\n",
            "Epoch 16/20\n",
            "1875/1875 [==============================] - 14s 7ms/step - loss: 0.1085 - accuracy: 0.9600 - val_loss: 0.3378 - val_accuracy: 0.9027\n",
            "Epoch 17/20\n",
            "1875/1875 [==============================] - 14s 7ms/step - loss: 0.1012 - accuracy: 0.9620 - val_loss: 0.3375 - val_accuracy: 0.9069\n",
            "Epoch 18/20\n",
            "1875/1875 [==============================] - 13s 7ms/step - loss: 0.0947 - accuracy: 0.9643 - val_loss: 0.3432 - val_accuracy: 0.9056\n",
            "Epoch 19/20\n",
            "1875/1875 [==============================] - 14s 7ms/step - loss: 0.0895 - accuracy: 0.9667 - val_loss: 0.3520 - val_accuracy: 0.9047\n",
            "Epoch 20/20\n",
            "1875/1875 [==============================] - 13s 7ms/step - loss: 0.0854 - accuracy: 0.9685 - val_loss: 0.3642 - val_accuracy: 0.9061\n"
          ]
        },
        {
          "output_type": "execute_result",
          "data": {
            "text/plain": [
              "<keras.callbacks.History at 0x7efdaee76fd0>"
            ]
          },
          "metadata": {},
          "execution_count": 1
        }
      ],
      "source": [
        "import tensorflow as tf\n",
        "mnist = tf.keras.datasets.fashion_mnist\n",
        "(training_images, training_labels), (val_images, val_labels) = mnist.load_data()\n",
        "training_images=training_images.reshape(60000, 28, 28, 1)\n",
        "training_images=training_images / 255.0\n",
        "val_images=val_images.reshape(10000, 28, 28, 1)\n",
        "val_images=val_images/255.0\n",
        "model = tf.keras.models.Sequential([\n",
        "  tf.keras.layers.Conv2D(64, (3,3), activation='relu', input_shape=(28, 28, 1)),\n",
        "  tf.keras.layers.MaxPooling2D(2, 2),\n",
        "  tf.keras.layers.Conv2D(64, (3,3), activation='relu'),\n",
        "  tf.keras.layers.MaxPooling2D(2,2),\n",
        "  tf.keras.layers.Flatten(),\n",
        "  tf.keras.layers.Dense(20, activation='relu'),\n",
        "  tf.keras.layers.Dense(10, activation='softmax')\n",
        "])\n",
        "model.compile(optimizer='adam', loss='sparse_categorical_crossentropy', metrics=['accuracy'])\n",
        "model.summary()\n",
        "model.fit(training_images, training_labels, validation_data=(val_images, val_labels), epochs=20)\n",
        "\n"
      ]
    },
    {
      "cell_type": "markdown",
      "metadata": {
        "id": "IXx_LX3SAlFs"
      },
      "source": [
        "# Visualizing the Convolutions and Pooling\n",
        "\n",
        "This code will show us the convolutions graphically. The print (test_labels[:100]) shows us the first 100 labels in the test set, and you can see that the ones at index 0, index 23 and index 28 are all the same value (9). They're all shoes. Let's take a look at the result of running the convolution on each, and you'll begin to see common features between them emerge. Now, when the final dense layers are trained on this resulting data, it's working with a lot less, more targeted, data -- the features generated by this convolution/pooling combination."
      ]
    },
    {
      "cell_type": "code",
      "execution_count": 2,
      "metadata": {
        "colab": {
          "base_uri": "https://localhost:8080/"
        },
        "id": "f-6nX4QsOku6",
        "outputId": "973bb7c3-fb5d-4325-b197-3e9bcd948d79"
      },
      "outputs": [
        {
          "output_type": "stream",
          "name": "stdout",
          "text": [
            "[9 2 1 1 6 1 4 6 5 7 4 5 7 3 4 1 2 4 8 0 2 5 7 9 1 4 6 0 9 3 8 8 3 3 8 0 7\n",
            " 5 7 9 6 1 3 7 6 7 2 1 2 2 4 4 5 8 2 2 8 4 8 0 7 7 8 5 1 1 2 3 9 8 7 0 2 6\n",
            " 2 3 1 2 8 4 1 8 5 9 5 0 3 2 0 6 5 3 6 7 1 8 0 1 4 2]\n"
          ]
        }
      ],
      "source": [
        "print(val_labels[:100])"
      ]
    },
    {
      "cell_type": "code",
      "execution_count": 3,
      "metadata": {
        "colab": {
          "base_uri": "https://localhost:8080/",
          "height": 1000
        },
        "id": "9FGsHhv6JvDx",
        "outputId": "c2494e2b-cc34-4e8b-de20-ce051551c536"
      },
      "outputs": [
        {
          "output_type": "display_data",
          "data": {
            "text/plain": [
              "<Figure size 432x288 with 6 Axes>"
            ],
            "image/png": "[encoded data removed]"
          },
          "metadata": {
            "needs_background": "light"
          }
        },
        {
          "output_type": "display_data",
          "data": {
            "text/plain": [
              "<Figure size 432x288 with 1 Axes>"
            ],
            "image/png": "[encoded data removed]"
          },
          "metadata": {
            "needs_background": "light"
          }
        },
        {
          "output_type": "display_data",
          "data": {
            "text/plain": [
              "<Figure size 432x288 with 1 Axes>"
            ],
            "image/png": "[encoded data removed]"
          },
          "metadata": {
            "needs_background": "light"
          }
        },
        {
          "output_type": "display_data",
          "data": {
            "text/plain": [
              "<Figure size 432x288 with 1 Axes>"
            ],
            "image/png": "[encoded data removed]"
          },
          "metadata": {
            "needs_background": "light"
          }
        }
      ],
      "source": [
        "import matplotlib.pyplot as plt\n",
        "def show_image(img):\n",
        "  plt.figure()\n",
        "  plt.imshow(val_images[img].reshape(28,28))\n",
        "  plt.grid(False)\n",
        "  plt.show()  \n",
        "\n",
        "f, axarr = plt.subplots(3,2)\n",
        "# By scanning the list above I saw that the 0, 23 and 28 entries are all label 9 \n",
        "FIRST_IMAGE=0\n",
        "SECOND_IMAGE=23\n",
        "THIRD_IMAGE=28\n",
        "\n",
        "# For shoes (0, 23, 28), Convolution_Number=1 (i.e. the second filter) shows\n",
        "# the sole being filtered out very clearly\n",
        "\n",
        "CONVOLUTION_NUMBER = 1\n",
        "from tensorflow.keras import models\n",
        "layer_outputs = [layer.output for layer in model.layers]\n",
        "activation_model = tf.keras.models.Model(inputs = model.input, outputs = layer_outputs)\n",
        "for x in range(0,2):\n",
        "  f1 = activation_model.predict(val_images[FIRST_IMAGE].reshape(1, 28, 28, 1))[x]\n",
        "  axarr[0,x].imshow(f1[0, : , :, CONVOLUTION_NUMBER], cmap='inferno')\n",
        "  axarr[0,x].grid(False)\n",
        "  f2 = activation_model.predict(val_images[SECOND_IMAGE].reshape(1, 28, 28, 1))[x]\n",
        "  axarr[1,x].imshow(f2[0, : , :, CONVOLUTION_NUMBER], cmap='inferno')\n",
        "  axarr[1,x].grid(False)\n",
        "  f3 = activation_model.predict(val_images[THIRD_IMAGE].reshape(1, 28, 28, 1))[x]\n",
        "  axarr[2,x].imshow(f3[0, : , :, CONVOLUTION_NUMBER], cmap='inferno')\n",
        "  axarr[2,x].grid(False)\n",
        "\n",
        "\n",
        "show_image(FIRST_IMAGE)\n",
        "show_image(SECOND_IMAGE)\n",
        "show_image(THIRD_IMAGE)"
      ]
    },
    {
      "cell_type": "code",
      "execution_count": 3,
      "metadata": {
        "id": "hnuMLxeWeR1F"
      },
      "outputs": [],
      "source": [
        ""
      ]
    }
  ],
  "metadata": {
    "accelerator": "GPU",
    "colab": {
      "collapsed_sections": [],
      "name": "Fashion-MNIST-Convolutions.ipynb",
      "provenance": []
    },
    "kernelspec": {
      "display_name": "Python 3",
      "language": "python",
      "name": "python3"
    },
    "language_info": {
      "codemirror_mode": {
        "name": "ipython",
        "version": 3
      },
      "file_extension": ".py",
      "mimetype": "text/x-python",
      "name": "python",
      "nbconvert_exporter": "python",
      "pygments_lexer": "ipython3",
      "version": "3.6.9"
    }
  },
  "nbformat": 4,
  "nbformat_minor": 0
}